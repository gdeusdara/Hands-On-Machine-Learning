{
 "cells": [
  {
   "cell_type": "markdown",
   "metadata": {},
   "source": [
    "# Chapter 1"
   ]
  },
  {
   "cell_type": "markdown",
   "metadata": {},
   "source": [
    "## What Is Machine Learning?"
   ]
  },
  {
   "cell_type": "markdown",
   "metadata": {},
   "source": [
    "_Machine Learning is the field of study that gives computers the ability\n",
    "to learn without being explicitly programmed._\n",
    "\n",
    "_A computer program is said to learn from experience E with respect to\n",
    "some task T and some performance measure P, if its performance on T,\n",
    "as measured by P, improves with experience E._\n",
    "\n",
    "E - training data\n",
    "T - task\n",
    "P - performance (can be accuracy, and it is often used in classification tasks.)\n",
    "\n",
    "\n",
    "### Training set\n",
    "\n",
    "The examples that the\n",
    "system uses to learn.\n",
    "\n",
    " Each training example is\n",
    "called a **training instance** (or **sample**).\n",
    "\n"
   ]
  },
  {
   "cell_type": "markdown",
   "metadata": {},
   "source": [
    "### Machine Learning is great for\n",
    "\n",
    "- Problems for which existing solutions require a lot of fine-tuning or long lists of rules\n",
    "- Complex problems for which using a traditional approach yields no good solution\n",
    "- Fluctuating environments: a Machine Learning system can adapt to new data.\n",
    "- Getting insights about complex problems and large amounts of data."
   ]
  },
  {
   "cell_type": "markdown",
   "metadata": {},
   "source": [
    "## Examples of Applications"
   ]
  },
  {
   "cell_type": "markdown",
   "metadata": {},
   "source": [
    "-  **Image Classification**, typically performed using convolutional neural networks (**CNN**)\n",
    "- **Natural Language Processing (NLP)**, and more specifically text classification, which can be tackled using recurrent neural networks (RNNs), CNNs, or Transformers\n",
    "- Creating a **chatbot or a personal assistant** involves many **NLP components**, including natural language understanding (NLU) and question-answering modules.\n",
    "- Forecasting your company’s revenue next year, based on many performance metrics.\n",
    "    - This is a regression task (i.e., predicting values) that may be tackled using any regression model, such as a Linear Regression or Polynomial Regression model (see Chapter 4), a regression SVM (see Chapter 5), a regression Random Forest (see Chapter 7), or an artificial neural network (see Chapter 10). If you want to take into account sequences of past performance metrics, you may want to use RNNs, CNNs, or Transformers "
   ]
  },
  {
   "cell_type": "markdown",
   "metadata": {},
   "source": [
    "## Types of Machine Learning Systems\n",
    "\n",
    "- Whether or not they are trained with human supervision (supervised, unsupervised, semisupervised, and Reinforcement Learning)\n",
    "- Whether or not they can learn incrementally on the fly (online versus batch learning)\n",
    "- Whether they work by simply comparing new data points to known data points, or instead by detecting patterns in the training data and building a predictive model, much like scientists do (instance-based versus model-based learning)"
   ]
  },
  {
   "cell_type": "markdown",
   "metadata": {},
   "source": [
    "### Supervised/Unsupervised Learning\n",
    "\n",
    "#### Supervised learning\n",
    "\n",
    "- In supervised learning, the training set you feed to the algorithm includes the desired solutions, called **labels**. A typical supervised learning task is **classification**\n",
    "- used in _regression_\n",
    "-  supervised learning algorithms: \n",
    "    - k-Nearest Neighbors\n",
    "    - Linear Regression\n",
    "    - Logistic Regression\n",
    "    - Support Vector Machines (SVMs)\n",
    "    - Decision Trees and Random Forests\n",
    "    - Neural networks\n",
    "    \n",
    "    \n",
    "#### Unsupervised learning\n",
    "\n",
    "unsupervised learning algorithms: \n",
    "\n",
    "- Clustering\n",
    "    - K-Means\n",
    "    - DBSCAN\n",
    "    - Hierarchical Cluster Analysis (HCA)\n",
    "- Anomaly detection and novelty detection\n",
    "    - One-class SVM\n",
    "    - Isolation Forest\n",
    "- Visualization and dimensionality reduction\n",
    "    - Principal Component Analysis (PCA)\n",
    "    - Kernel PCA\n",
    "    - Locally Linear Embedding (LLE)\n",
    "    - t-Distributed Stochastic Neighbor Embedding (t-SNE)\n",
    "- Association rule learning\n",
    "    - Apriori\n",
    "    - Eclat\n",
    "    \n",
    "A related task is __dimensionality reduction__, in which the goal is to simplify\n",
    "the data without losing too much information. One way to do this is to\n",
    "merge several correlated features into one.\n",
    "\n",
    "Another common unsupervised task is __association rule learning__, in\n",
    "which the goal is to dig into large amounts of data and discover interesting\n",
    "relations between attributes.\n",
    "\n",
    "#### Semisupervised learning\n",
    "\n",
    "algorithms that deal with data that’s __partially labeled__. (Google Photos)\n",
    "\n",
    "#### Reinforcement Learning\n",
    "\n",
    "The learning system, called an __agent__ in this context, can observe the environment, select and\n",
    "perform actions, and get __rewards__ in return (or __penalties__ in the form of\n",
    "negative rewards). It must then learn by itself\n",
    "what is the best strategy, called a __policy__, to get the most reward over time.\n",
    "\n",
    "(Stopped at page 39)"
   ]
  }
 ],
 "metadata": {
  "kernelspec": {
   "display_name": "Python 3",
   "language": "python",
   "name": "python3"
  },
  "language_info": {
   "codemirror_mode": {
    "name": "ipython",
    "version": 3
   },
   "file_extension": ".py",
   "mimetype": "text/x-python",
   "name": "python",
   "nbconvert_exporter": "python",
   "pygments_lexer": "ipython3",
   "version": "3.7.6"
  }
 },
 "nbformat": 4,
 "nbformat_minor": 4
}
